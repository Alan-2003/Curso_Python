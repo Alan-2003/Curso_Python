{
 "cells": [
  {
   "attachments": {},
   "cell_type": "markdown",
   "metadata": {},
   "source": [
    "# Clase 2"
   ]
  },
  {
   "cell_type": "code",
   "execution_count": 4,
   "metadata": {},
   "outputs": [
    {
     "name": "stdout",
     "output_type": "stream",
     "text": [
      "5 y 5 son iguales\n"
     ]
    }
   ],
   "source": [
    "valor_1 = int(input('Dame un valor'))\n",
    "\n",
    "valor_2 = int(input('Dame un segundo valor'))\n",
    "\n",
    "if valor_1 > valor_2:\n",
    "    print(f\"El {valor_1} es mayor\")\n",
    "elif valor_1 < valor_2:\n",
    "    print(f\"El {valor_2} es mayor\")\n",
    "else:\n",
    "    print(f\"{valor_1} y {valor_2} son iguales\")"
   ]
  },
  {
   "attachments": {},
   "cell_type": "markdown",
   "metadata": {},
   "source": [
    "Listas"
   ]
  },
  {
   "cell_type": "code",
   "execution_count": 1,
   "metadata": {},
   "outputs": [
    {
     "name": "stdout",
     "output_type": "stream",
     "text": [
      "['Manzana', 'Fresa', 'Piña']\n"
     ]
    }
   ],
   "source": [
    "mis_frutas = [\"Manzana\", \"Fresa\", \"Piña\"]\n",
    "print(mis_frutas)"
   ]
  },
  {
   "cell_type": "code",
   "execution_count": 2,
   "metadata": {},
   "outputs": [
    {
     "name": "stdout",
     "output_type": "stream",
     "text": [
      "Manzana\n"
     ]
    }
   ],
   "source": [
    "mis_frutas = [\"Manzana\", \"Fresa\", \"Piña\"]\n",
    "print(mis_frutas[0])"
   ]
  },
  {
   "cell_type": "code",
   "execution_count": 3,
   "metadata": {},
   "outputs": [
    {
     "name": "stdout",
     "output_type": "stream",
     "text": [
      "['Manzana', 'Fresa', 'Piña', 'Naranja']\n"
     ]
    }
   ],
   "source": [
    "mis_frutas = [\"Manzana\", \"Fresa\", \"Piña\"]\n",
    "mis_frutas.append (\"Naranja\")\n",
    "print(mis_frutas)"
   ]
  },
  {
   "cell_type": "code",
   "execution_count": 4,
   "metadata": {},
   "outputs": [
    {
     "name": "stdout",
     "output_type": "stream",
     "text": [
      "La dama \n"
     ]
    }
   ],
   "source": [
    "palabra = \"La dama y el vagabundo\"\n",
    "print(palabra[0:8])"
   ]
  },
  {
   "attachments": {},
   "cell_type": "markdown",
   "metadata": {},
   "source": [
    "Metodo sort (pone en orden)"
   ]
  },
  {
   "cell_type": "code",
   "execution_count": 5,
   "metadata": {},
   "outputs": [
    {
     "name": "stdout",
     "output_type": "stream",
     "text": [
      "[0, 5, 11, 13, 14, 15, 15, 19, 20]\n"
     ]
    }
   ],
   "source": [
    "mis_numeros = [20, 0, 15, 13, 5, 14, 19, 11, 15 ]\n",
    "mis_numeros.sort()\n",
    "print(mis_numeros)"
   ]
  },
  {
   "attachments": {},
   "cell_type": "markdown",
   "metadata": {},
   "source": [
    "Metodo sort reverse"
   ]
  },
  {
   "cell_type": "code",
   "execution_count": 6,
   "metadata": {},
   "outputs": [
    {
     "name": "stdout",
     "output_type": "stream",
     "text": [
      "[20, 19, 15, 15, 14, 13, 11, 5, 0]\n"
     ]
    }
   ],
   "source": [
    "mis_numeros = [20, 0, 15, 13, 5, 14, 19, 11, 15 ]\n",
    "mis_numeros.sort(reverse=True)\n",
    "print(mis_numeros)"
   ]
  },
  {
   "attachments": {},
   "cell_type": "markdown",
   "metadata": {},
   "source": [
    "Metodo contador"
   ]
  },
  {
   "cell_type": "code",
   "execution_count": 7,
   "metadata": {},
   "outputs": [
    {
     "data": {
      "text/plain": [
       "2"
      ]
     },
     "execution_count": 7,
     "metadata": {},
     "output_type": "execute_result"
    }
   ],
   "source": [
    "mis_numeros = [20, 0, 15, 13, 5, 14, 19, 11, 15 ]\n",
    "mis_numeros.count(15)\n"
   ]
  },
  {
   "attachments": {},
   "cell_type": "markdown",
   "metadata": {},
   "source": [
    "Funciones para listas"
   ]
  },
  {
   "cell_type": "code",
   "execution_count": 8,
   "metadata": {},
   "outputs": [
    {
     "name": "stdout",
     "output_type": "stream",
     "text": [
      "15.7\n"
     ]
    }
   ],
   "source": [
    "mis_numeros = [20, 0, 15, 13, 5, 14, 19, 11, 15, 45]\n",
    "promedio = sum(mis_numeros) / len(mis_numeros)\n",
    "print(promedio)"
   ]
  },
  {
   "cell_type": "code",
   "execution_count": 11,
   "metadata": {},
   "outputs": [
    {
     "name": "stdout",
     "output_type": "stream",
     "text": [
      "0\n",
      "45\n"
     ]
    }
   ],
   "source": [
    "mis_numeros = [20, 0, 15, 13, 5, 14, 19, 11, 15, 45]\n",
    "print(min(mis_numeros))\n",
    "print(max(mis_numeros))\n"
   ]
  }
 ],
 "metadata": {
  "kernelspec": {
   "display_name": "Python 3.11.0b3 64-bit",
   "language": "python",
   "name": "python3"
  },
  "language_info": {
   "codemirror_mode": {
    "name": "ipython",
    "version": 3
   },
   "file_extension": ".py",
   "mimetype": "text/x-python",
   "name": "python",
   "nbconvert_exporter": "python",
   "pygments_lexer": "ipython3",
   "version": "3.11.0b3"
  },
  "orig_nbformat": 4,
  "vscode": {
   "interpreter": {
    "hash": "d43d1b0f6f9810e270a835188439b5b5f8b288fef5c38c31f067d570e96c1f1c"
   }
  }
 },
 "nbformat": 4,
 "nbformat_minor": 2
}
