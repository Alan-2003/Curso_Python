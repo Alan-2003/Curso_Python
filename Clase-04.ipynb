{
 "cells": [
  {
   "attachments": {},
   "cell_type": "markdown",
   "metadata": {},
   "source": [
    "## Funciones "
   ]
  },
  {
   "cell_type": "code",
   "execution_count": 20,
   "metadata": {},
   "outputs": [],
   "source": [
    "def dolaresAPesos(dolares):\n",
    "    \"\"\"Funcion para convertir dolares a pesos\n",
    "    ## Parametros\n",
    "    a  ; valores internos\n",
    "    ## return \n",
    "    \"\"\"\n",
    "    resultado = dolares *19.76\n",
    "    return resultado"
   ]
  },
  {
   "cell_type": "code",
   "execution_count": 21,
   "metadata": {},
   "outputs": [
    {
     "data": {
      "text/plain": [
       "494.00000000000006"
      ]
     },
     "execution_count": 21,
     "metadata": {},
     "output_type": "execute_result"
    }
   ],
   "source": [
    "dolaresAPesos(25)"
   ]
  },
  {
   "cell_type": "code",
   "execution_count": 14,
   "metadata": {},
   "outputs": [],
   "source": [
    "def promedio_lista (lista):   \n",
    "\n",
    "    \"\"\" Funcion para sacar promedio de un lista\n",
    "    # Parametros\n",
    "    lista , nombre de la lista\n",
    "    \"\"\"\n",
    "    n= len(lista)\n",
    "    suma= sum(lista)\n",
    "    return suma/n\n"
   ]
  },
  {
   "cell_type": "code",
   "execution_count": 15,
   "metadata": {},
   "outputs": [
    {
     "data": {
      "text/plain": [
       "4.0"
      ]
     },
     "execution_count": 15,
     "metadata": {},
     "output_type": "execute_result"
    }
   ],
   "source": [
    "numeros=[1,5,6]\n",
    "promedio_lista(numeros)"
   ]
  }
 ],
 "metadata": {
  "kernelspec": {
   "display_name": "Python 3.11.0b3 64-bit",
   "language": "python",
   "name": "python3"
  },
  "language_info": {
   "codemirror_mode": {
    "name": "ipython",
    "version": 3
   },
   "file_extension": ".py",
   "mimetype": "text/x-python",
   "name": "python",
   "nbconvert_exporter": "python",
   "pygments_lexer": "ipython3"
  },
  "orig_nbformat": 4,
  "vscode": {
   "interpreter": {
    "hash": "d43d1b0f6f9810e270a835188439b5b5f8b288fef5c38c31f067d570e96c1f1c"
   }
  }
 },
 "nbformat": 4,
 "nbformat_minor": 2
}
